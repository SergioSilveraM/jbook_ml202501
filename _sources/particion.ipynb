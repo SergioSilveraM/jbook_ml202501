{
 "cells": [
  {
   "cell_type": "markdown",
   "metadata": {},
   "source": [
    "# ***Importante: Partición***"
   ]
  },
  {
   "cell_type": "code",
   "execution_count": 1,
   "metadata": {},
   "outputs": [],
   "source": [
    "import pandas as pd\n",
    "from sklearn.model_selection import train_test_split\n",
    "from scipy.stats import chi2_contingency\n",
    "import matplotlib.pyplot as plt"
   ]
  },
  {
   "cell_type": "code",
   "execution_count": 2,
   "metadata": {},
   "outputs": [
    {
     "data": {
      "text/plain": [
       "(332228, 22)"
      ]
     },
     "execution_count": 2,
     "metadata": {},
     "output_type": "execute_result"
    }
   ],
   "source": [
    "df = pd.read_csv('../Datos_Saber_Pro_Preprocesed.csv')\n",
    "df.shape"
   ]
  },
  {
   "cell_type": "code",
   "execution_count": 3,
   "metadata": {},
   "outputs": [],
   "source": [
    "def stratified_categorical_sample(df, target_column, sample_frac=0.3, random_state=42):\n",
    "    X = df.drop(columns=[target_column])\n",
    "    y = df[target_column]\n",
    "\n",
    "    X_sample, _, y_sample, _ = train_test_split(\n",
    "        X, y, train_size=sample_frac, stratify=y, shuffle=True,random_state=random_state\n",
    "    )\n",
    "\n",
    "    df_sample = X_sample.copy()\n",
    "    df_sample[target_column] = y_sample\n",
    "\n",
    "    full_dist = df[target_column].value_counts().sort_index()\n",
    "    sample_dist = df_sample[target_column].value_counts().sort_index()\n",
    "\n",
    "    contingency = pd.concat([full_dist, sample_dist], axis=1)\n",
    "    contingency.columns = ['Full', 'Sample']\n",
    "\n",
    "    chi2_stat, p_value, _, _ = chi2_contingency(contingency)\n",
    "\n",
    "    stats = {\n",
    "        'Chi-square_statistic': chi2_stat,\n",
    "        'p_value': p_value,\n",
    "        'Sample_size': len(df_sample),\n",
    "        'Full_dataset_size': len(df)\n",
    "    }\n",
    "\n",
    "    return df_sample, stats\n"
   ]
  },
  {
   "cell_type": "code",
   "execution_count": 4,
   "metadata": {},
   "outputs": [
    {
     "data": {
      "text/plain": [
       "(102990, 22)"
      ]
     },
     "metadata": {},
     "output_type": "display_data"
    },
    {
     "data": {
      "text/plain": [
       "{'Chi-square_statistic': np.float64(1.7478526247740735e-05),\n",
       " 'p_value': np.float64(0.9999999999618129),\n",
       " 'Sample_size': 102990,\n",
       " 'Full_dataset_size': 332228}"
      ]
     },
     "metadata": {},
     "output_type": "display_data"
    }
   ],
   "source": [
    "df_reduced, stats = stratified_categorical_sample(df, target_column='MOD_INGLES_DESEM', sample_frac=0.31)\n",
    "\n",
    "display(df_reduced.shape)\n",
    "display(stats)"
   ]
  },
  {
   "cell_type": "code",
   "execution_count": 5,
   "metadata": {},
   "outputs": [
    {
     "data": {
      "image/png": "[encoded data removed]",
      "text/plain": [
       "<Figure size 800x500 with 1 Axes>"
      ]
     },
     "metadata": {},
     "output_type": "display_data"
    }
   ],
   "source": [
    "def plot_target_distribution_comparison(full_df, sample_df, target_column):\n",
    "    full_counts = full_df[target_column].value_counts(normalize=True).sort_index()\n",
    "    sample_counts = sample_df[target_column].value_counts(normalize=True).sort_index()\n",
    "\n",
    "    x = range(len(full_counts))\n",
    "\n",
    "    fig, ax = plt.subplots(figsize=(8, 5))\n",
    "    ax.bar([i - 0.2 for i in x], full_counts.values, width=0.4, label='Full dataset', color='steelblue')\n",
    "    ax.bar([i + 0.2 for i in x], sample_counts.values, width=0.4, label='Sample subset', color='darkorange')\n",
    "\n",
    "    ax.set_xticks(x)\n",
    "    ax.set_xticklabels(full_counts.index)\n",
    "    ax.set_title('English Level Distribution: Full Dataset vs Sample')\n",
    "    ax.set_ylabel('Proportion')\n",
    "    ax.set_xlabel('English Proficiency Level')\n",
    "    ax.legend()\n",
    "    plt.tight_layout()\n",
    "    plt.show()\n",
    "\n",
    "plot_target_distribution_comparison(df, df_reduced, target_column='MOD_INGLES_DESEM')\n"
   ]
  },
  {
   "cell_type": "code",
   "execution_count": 6,
   "metadata": {},
   "outputs": [
    {
     "name": "stdout",
     "output_type": "stream",
     "text": [
      "Distribution of MOD_INGLES_DESEM in the full dataset:\n"
     ]
    },
    {
     "data": {
      "text/plain": [
       "MOD_INGLES_DESEM\n",
       "-A1    0.092400\n",
       "A1     0.209775\n",
       "A2     0.380438\n",
       "B1     0.217561\n",
       "B2     0.099826\n",
       "Name: proportion, dtype: float64"
      ]
     },
     "metadata": {},
     "output_type": "display_data"
    },
    {
     "name": "stdout",
     "output_type": "stream",
     "text": [
      "Distribution of MOD_INGLES_DESEM in the sample subset:\n"
     ]
    },
    {
     "data": {
      "text/plain": [
       "MOD_INGLES_DESEM\n",
       "-A1    0.092397\n",
       "A1     0.209778\n",
       "A2     0.380435\n",
       "B1     0.217565\n",
       "B2     0.099825\n",
       "Name: proportion, dtype: float64"
      ]
     },
     "metadata": {},
     "output_type": "display_data"
    }
   ],
   "source": [
    "print(\"Distribution of MOD_INGLES_DESEM in the full dataset:\")\n",
    "display(df['MOD_INGLES_DESEM'].value_counts(normalize=True).sort_index())\n",
    "print(\"Distribution of MOD_INGLES_DESEM in the sample subset:\")\n",
    "display(df_reduced['MOD_INGLES_DESEM'].value_counts(normalize=True).sort_index())"
   ]
  },
  {
   "cell_type": "code",
   "execution_count": 7,
   "metadata": {},
   "outputs": [],
   "source": [
    "df_reduced.to_csv('../Saber_pro_sampled_data.csv', index=False)"
   ]
  },
  {
   "cell_type": "code",
   "execution_count": 9,
   "metadata": {},
   "outputs": [
    {
     "data": {
      "text/plain": [
       "(102990, 22)"
      ]
     },
     "execution_count": 9,
     "metadata": {},
     "output_type": "execute_result"
    }
   ],
   "source": [
    "df_reduced.shape"
   ]
  }
 ],
 "metadata": {
  "kernelspec": {
   "display_name": "MachineLearning",
   "language": "python",
   "name": "python3"
  },
  "language_info": {
   "codemirror_mode": {
    "name": "ipython",
    "version": 3
   },
   "file_extension": ".py",
   "mimetype": "text/x-python",
   "name": "python",
   "nbconvert_exporter": "python",
   "pygments_lexer": "ipython3",
   "version": "3.9.21"
  }
 },
 "nbformat": 4,
 "nbformat_minor": 2
}
